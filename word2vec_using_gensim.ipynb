{
  "nbformat": 4,
  "nbformat_minor": 0,
  "metadata": {
    "colab": {
      "name": "word2vec using gensim",
      "provenance": [],
      "include_colab_link": true
    },
    "kernelspec": {
      "name": "python3",
      "display_name": "Python 3"
    }
  },
  "cells": [
    {
      "cell_type": "markdown",
      "metadata": {
        "id": "view-in-github",
        "colab_type": "text"
      },
      "source": [
        "<a href=\"https://colab.research.google.com/github/juturpraveen/NLP/blob/master/word2vec_using_gensim.ipynb\" target=\"_parent\"><img src=\"https://colab.research.google.com/assets/colab-badge.svg\" alt=\"Open In Colab\"/></a>"
      ]
    },
    {
      "cell_type": "code",
      "metadata": {
        "id": "CRpn-DE1tttV",
        "colab_type": "code",
        "colab": {}
      },
      "source": [
        "pip install -q beautifulsoup4"
      ],
      "execution_count": 0,
      "outputs": []
    },
    {
      "cell_type": "code",
      "metadata": {
        "id": "CDuLquyMt4Ds",
        "colab_type": "code",
        "colab": {
          "base_uri": "https://localhost:8080/",
          "height": 34
        },
        "outputId": "401536fc-adf5-4a79-a8d5-33bcf2ee57a7"
      },
      "source": [
        "pip install lxml"
      ],
      "execution_count": 2,
      "outputs": [
        {
          "output_type": "stream",
          "text": [
            "Requirement already satisfied: lxml in /usr/local/lib/python3.6/dist-packages (4.2.6)\n"
          ],
          "name": "stdout"
        }
      ]
    },
    {
      "cell_type": "code",
      "metadata": {
        "id": "Ddpm17tYuYC_",
        "colab_type": "code",
        "colab": {
          "base_uri": "https://localhost:8080/",
          "height": 102
        },
        "outputId": "89f82295-bd76-4e6f-e40a-c8c46ffab788"
      },
      "source": [
        "import bs4 as bs\n",
        "import urllib.request\n",
        "import re\n",
        "import nltk\n",
        "nltk.download('punkt')\n",
        "nltk.download('stopwords')"
      ],
      "execution_count": 49,
      "outputs": [
        {
          "output_type": "stream",
          "text": [
            "[nltk_data] Downloading package punkt to /root/nltk_data...\n",
            "[nltk_data]   Package punkt is already up-to-date!\n",
            "[nltk_data] Downloading package stopwords to /root/nltk_data...\n",
            "[nltk_data]   Unzipping corpora/stopwords.zip.\n"
          ],
          "name": "stdout"
        },
        {
          "output_type": "execute_result",
          "data": {
            "text/plain": [
              "True"
            ]
          },
          "metadata": {
            "tags": []
          },
          "execution_count": 49
        }
      ]
    },
    {
      "cell_type": "code",
      "metadata": {
        "id": "H7uBdhIouehN",
        "colab_type": "code",
        "colab": {}
      },
      "source": [
        "scraped_data = urllib.request.urlopen('https://en.wikipedia.org/wiki/Pregnancy')\n",
        "\n",
        "#Read data from the URL\n",
        "article = scraped_data.read()\n",
        "\n",
        "#Format the read data by tags\n",
        "parsed_data = bs.BeautifulSoup(article, 'lxml')\n",
        "\n",
        "#Extract all the paragraphs\n",
        "paragraphs = parsed_data.find_all('p')\n",
        "\n",
        "#Combine all paragraphs into one text body\n",
        "article_text = \"\"\n",
        "for paragraph in paragraphs:\n",
        "  article_text += paragraph.text"
      ],
      "execution_count": 0,
      "outputs": []
    },
    {
      "cell_type": "markdown",
      "metadata": {
        "id": "VmavXeC11CDC",
        "colab_type": "text"
      },
      "source": [
        "So far, the wikipedia article is read from the URL, extracted the text from the tags and the removed the tags. Now process the text by removing any characters that are not required."
      ]
    },
    {
      "cell_type": "code",
      "metadata": {
        "id": "tYyGkKno1NFt",
        "colab_type": "code",
        "colab": {}
      },
      "source": [
        "#Get all characters to lower case\n",
        "processed_article = article_text.lower()\n",
        "\n",
        "#Replace numbers with spaces\n",
        "processed_article = re.sub('[^a-zA-Z]', ' ', processed_article)\n",
        "\n",
        "#Remove the extra spaces from the text\n",
        "processed_article = re.sub(r'\\s+', ' ', processed_article)\n",
        "\n",
        "#Breakdown the text into sentences\n",
        "all_sentences = nltk.sent_tokenize(processed_article)\n",
        "\n",
        "#Breakdown the sentences into words\n",
        "all_words = [nltk.word_tokenize(sent) for sent in all_sentences]\n",
        "\n",
        "#Remove the stop words\n",
        "from nltk.corpus import stopwords\n",
        "for i in range(len(all_words)):\n",
        "  all_words[i] = [w for w in all_words[i] if w not in stopwords.words('english')]\n",
        "  "
      ],
      "execution_count": 0,
      "outputs": []
    },
    {
      "cell_type": "markdown",
      "metadata": {
        "id": "xeJvYrEC3gOd",
        "colab_type": "text"
      },
      "source": [
        "Now we are creating word embeddings using word2vec"
      ]
    },
    {
      "cell_type": "code",
      "metadata": {
        "id": "7-cOVuTa3flV",
        "colab_type": "code",
        "colab": {}
      },
      "source": [
        "from gensim.models import Word2Vec\n",
        "\n",
        "#Only create word2vec embedding for that words that appear atleast twice in the text\n",
        "w2v = Word2Vec(all_words, min_count = 2)"
      ],
      "execution_count": 0,
      "outputs": []
    },
    {
      "cell_type": "code",
      "metadata": {
        "id": "hzyaRRhe38C7",
        "colab_type": "code",
        "colab": {}
      },
      "source": [
        "vocabulary = w2v.wv.vocab\n",
        "\n",
        "#Each word is represented as a 100 dimension vector\n",
        "v1 = w2v.wv['baby']\n"
      ],
      "execution_count": 0,
      "outputs": []
    },
    {
      "cell_type": "code",
      "metadata": {
        "id": "tvP7KJcN5LMT",
        "colab_type": "code",
        "colab": {
          "base_uri": "https://localhost:8080/",
          "height": 241
        },
        "outputId": "a92b49e1-086e-448a-8c7f-f2abcd41149a"
      },
      "source": [
        "#Find similar words\n",
        "similar_words = w2v.wv.most_similar('gestation')\n",
        "similar_words"
      ],
      "execution_count": 60,
      "outputs": [
        {
          "output_type": "stream",
          "text": [
            "/usr/local/lib/python3.6/dist-packages/gensim/matutils.py:737: FutureWarning: Conversion of the second argument of issubdtype from `int` to `np.signedinteger` is deprecated. In future, it will be treated as `np.int64 == np.dtype(int).type`.\n",
            "  if np.issubdtype(vec.dtype, np.int):\n"
          ],
          "name": "stderr"
        },
        {
          "output_type": "execute_result",
          "data": {
            "text/plain": [
              "[('many', 0.38478875160217285),\n",
              " ('preterm', 0.3692892789840698),\n",
              " ('gravid', 0.3462925851345062),\n",
              " ('medical', 0.3377979099750519),\n",
              " ('development', 0.3321821689605713),\n",
              " ('uterus', 0.32355237007141113),\n",
              " ('moderation', 0.31243064999580383),\n",
              " ('pregnancy', 0.3072160482406616),\n",
              " ('excessive', 0.30119431018829346),\n",
              " ('symptoms', 0.29392561316490173)]"
            ]
          },
          "metadata": {
            "tags": []
          },
          "execution_count": 60
        }
      ]
    },
    {
      "cell_type": "code",
      "metadata": {
        "id": "TIcMHmS4vvnN",
        "colab_type": "code",
        "colab": {
          "base_uri": "https://localhost:8080/",
          "height": 34
        },
        "outputId": "cff09e3b-e9b8-4eab-c875-ca6432e82cbe"
      },
      "source": [
        "parsed_data\n",
        "paragraphs\n",
        "article_text\n",
        "all_words\n",
        "v1.shape"
      ],
      "execution_count": 32,
      "outputs": [
        {
          "output_type": "execute_result",
          "data": {
            "text/plain": [
              "(100,)"
            ]
          },
          "metadata": {
            "tags": []
          },
          "execution_count": 32
        }
      ]
    },
    {
      "cell_type": "code",
      "metadata": {
        "id": "UYWhkOV_wAjt",
        "colab_type": "code",
        "colab": {}
      },
      "source": [
        ""
      ],
      "execution_count": 0,
      "outputs": []
    }
  ]
}