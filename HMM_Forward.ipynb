{
  "nbformat": 4,
  "nbformat_minor": 0,
  "metadata": {
    "colab": {
      "name": "Untitled2.ipynb",
      "provenance": [],
      "collapsed_sections": [],
      "include_colab_link": true
    },
    "kernelspec": {
      "name": "python3",
      "display_name": "Python 3"
    }
  },
  "cells": [
    {
      "cell_type": "markdown",
      "metadata": {
        "id": "view-in-github",
        "colab_type": "text"
      },
      "source": [
        "<a href=\"https://colab.research.google.com/github/juturpraveen/NLP/blob/master/HMM_Forward.ipynb\" target=\"_parent\"><img src=\"https://colab.research.google.com/assets/colab-badge.svg\" alt=\"Open In Colab\"/></a>"
      ]
    },
    {
      "cell_type": "code",
      "metadata": {
        "id": "KDIRg-TBVMaN",
        "colab_type": "code",
        "colab": {}
      },
      "source": [
        "import torch\n",
        "import numpy as np"
      ],
      "execution_count": 0,
      "outputs": []
    },
    {
      "cell_type": "code",
      "metadata": {
        "id": "M7upc0TMV3sV",
        "colab_type": "code",
        "colab": {}
      },
      "source": [
        "states ={0:'H',1:'C'}\n",
        "obs = {0:1, 1:2, 2:3}\n",
        "obs_seq = np.array([3,1,3])\n",
        "emi = np.array([[0.2, 0.4, 0.4],\n",
        "                [0.5, 0.4, 0.1]])\n",
        "pie = np.array([0.8, 0.2])\n",
        "trans = np.array([[0.6, 0.4],\n",
        "                  [0.5, 0.5]])"
      ],
      "execution_count": 0,
      "outputs": []
    },
    {
      "cell_type": "code",
      "metadata": {
        "id": "KG9MeazirfyL",
        "colab_type": "code",
        "colab": {
          "base_uri": "https://localhost:8080/",
          "height": 34
        },
        "outputId": "5c1b3d3d-b0ff-40d5-8257-9230f247599a"
      },
      "source": [
        "obs['3']"
      ],
      "execution_count": 126,
      "outputs": [
        {
          "output_type": "execute_result",
          "data": {
            "text/plain": [
              "2"
            ]
          },
          "metadata": {
            "tags": []
          },
          "execution_count": 126
        }
      ]
    },
    {
      "cell_type": "code",
      "metadata": {
        "id": "3lx8_TNvW29n",
        "colab_type": "code",
        "colab": {
          "base_uri": "https://localhost:8080/",
          "height": 34
        },
        "outputId": "0c410586-344f-488e-9b7f-51df2465a502"
      },
      "source": [
        "obs_seq.shape[0]\n",
        "emi.shape[0]"
      ],
      "execution_count": 127,
      "outputs": [
        {
          "output_type": "execute_result",
          "data": {
            "text/plain": [
              "2"
            ]
          },
          "metadata": {
            "tags": []
          },
          "execution_count": 127
        }
      ]
    },
    {
      "cell_type": "code",
      "metadata": {
        "id": "C8CxgOy-VQhx",
        "colab_type": "code",
        "colab": {}
      },
      "source": [
        "def initialize_trellis(states, obs_seq):\n",
        "  return torch.zeros(states, obs_seq)"
      ],
      "execution_count": 0,
      "outputs": []
    },
    {
      "cell_type": "code",
      "metadata": {
        "id": "742541E_VVm-",
        "colab_type": "code",
        "colab": {}
      },
      "source": [
        "trellis = initialize_trellis(emi.shape[0], obs_seq[0])"
      ],
      "execution_count": 0,
      "outputs": []
    },
    {
      "cell_type": "code",
      "metadata": {
        "id": "HqxPEP8oqUf4",
        "colab_type": "code",
        "colab": {}
      },
      "source": [
        "def emission_prob(obs, state):\n",
        "  state_ind = states[state]\n",
        "  obs_ind = obs[obs]\n",
        "  return emi[(state_ind, obs_ind)]"
      ],
      "execution_count": 0,
      "outputs": []
    },
    {
      "cell_type": "code",
      "metadata": {
        "id": "pgxmzCU8q0gG",
        "colab_type": "code",
        "colab": {
          "base_uri": "https://localhost:8080/",
          "height": 265
        },
        "outputId": "25cbac36-1667-401b-bcbd-ae4e78a9cab7"
      },
      "source": [
        "emission_prob('3', 'H')"
      ],
      "execution_count": 139,
      "outputs": [
        {
          "output_type": "error",
          "ename": "TypeError",
          "evalue": "ignored",
          "traceback": [
            "\u001b[0;31m---------------------------------------------------------------------------\u001b[0m",
            "\u001b[0;31mTypeError\u001b[0m                                 Traceback (most recent call last)",
            "\u001b[0;32m<ipython-input-139-c81e862bedf8>\u001b[0m in \u001b[0;36m<module>\u001b[0;34m()\u001b[0m\n\u001b[0;32m----> 1\u001b[0;31m \u001b[0memission_prob\u001b[0m\u001b[0;34m(\u001b[0m\u001b[0;34m'3'\u001b[0m\u001b[0;34m,\u001b[0m \u001b[0;34m'H'\u001b[0m\u001b[0;34m)\u001b[0m\u001b[0;34m\u001b[0m\u001b[0;34m\u001b[0m\u001b[0m\n\u001b[0m",
            "\u001b[0;32m<ipython-input-138-a8c8c35b7075>\u001b[0m in \u001b[0;36memission_prob\u001b[0;34m(obs, state)\u001b[0m\n\u001b[1;32m      1\u001b[0m \u001b[0;32mdef\u001b[0m \u001b[0memission_prob\u001b[0m\u001b[0;34m(\u001b[0m\u001b[0mobs\u001b[0m\u001b[0;34m,\u001b[0m \u001b[0mstate\u001b[0m\u001b[0;34m)\u001b[0m\u001b[0;34m:\u001b[0m\u001b[0;34m\u001b[0m\u001b[0;34m\u001b[0m\u001b[0m\n\u001b[1;32m      2\u001b[0m   \u001b[0mstate_ind\u001b[0m \u001b[0;34m=\u001b[0m \u001b[0mstates\u001b[0m\u001b[0;34m[\u001b[0m\u001b[0mstate\u001b[0m\u001b[0;34m]\u001b[0m\u001b[0;34m\u001b[0m\u001b[0;34m\u001b[0m\u001b[0m\n\u001b[0;32m----> 3\u001b[0;31m   \u001b[0mobs_ind\u001b[0m \u001b[0;34m=\u001b[0m \u001b[0mobs\u001b[0m\u001b[0;34m[\u001b[0m\u001b[0mobs\u001b[0m\u001b[0;34m]\u001b[0m\u001b[0;34m\u001b[0m\u001b[0;34m\u001b[0m\u001b[0m\n\u001b[0m\u001b[1;32m      4\u001b[0m   \u001b[0;32mreturn\u001b[0m \u001b[0memi\u001b[0m\u001b[0;34m[\u001b[0m\u001b[0;34m(\u001b[0m\u001b[0mstate_ind\u001b[0m\u001b[0;34m,\u001b[0m \u001b[0mobs_ind\u001b[0m\u001b[0;34m)\u001b[0m\u001b[0;34m]\u001b[0m\u001b[0;34m\u001b[0m\u001b[0;34m\u001b[0m\u001b[0m\n",
            "\u001b[0;31mTypeError\u001b[0m: string indices must be integers"
          ]
        }
      ]
    },
    {
      "cell_type": "code",
      "metadata": {
        "id": "C2aNHOKTsti8",
        "colab_type": "code",
        "colab": {
          "base_uri": "https://localhost:8080/",
          "height": 34
        },
        "outputId": "4cdddf54-376b-4ab7-ca07-31ae556fad74"
      },
      "source": [
        "a = 1\n",
        "b = 2\n",
        "print(emi[a,b])"
      ],
      "execution_count": 109,
      "outputs": [
        {
          "output_type": "stream",
          "text": [
            "0.1\n"
          ],
          "name": "stdout"
        }
      ]
    },
    {
      "cell_type": "code",
      "metadata": {
        "id": "6F1cc4wMXVkM",
        "colab_type": "code",
        "colab": {
          "base_uri": "https://localhost:8080/",
          "height": 51
        },
        "outputId": "94c2fd22-83e5-4411-81b4-ae2a7024db6e"
      },
      "source": [
        "print(trellis)"
      ],
      "execution_count": 27,
      "outputs": [
        {
          "output_type": "stream",
          "text": [
            "tensor([[0., 0., 0.],\n",
            "        [0., 0., 0.]])\n"
          ],
          "name": "stdout"
        }
      ]
    },
    {
      "cell_type": "code",
      "metadata": {
        "id": "LIDk5tXhXich",
        "colab_type": "code",
        "colab": {}
      },
      "source": [
        "#initialization\n",
        "trellis[0,0] = pie[0] * emi[0,2]\n",
        "trellis[1,0] = pie[1] * emi[1,2]"
      ],
      "execution_count": 0,
      "outputs": []
    },
    {
      "cell_type": "code",
      "metadata": {
        "id": "Tp5wBslvYgr0",
        "colab_type": "code",
        "colab": {
          "base_uri": "https://localhost:8080/",
          "height": 51
        },
        "outputId": "374a5d71-bc25-4013-be71-7420fe25ee7c"
      },
      "source": [
        "trellis"
      ],
      "execution_count": 67,
      "outputs": [
        {
          "output_type": "execute_result",
          "data": {
            "text/plain": [
              "tensor([[0.3200, 0.0404, 0.0235],\n",
              "        [0.0200, 0.0690, 0.0051]])"
            ]
          },
          "metadata": {
            "tags": []
          },
          "execution_count": 67
        }
      ]
    },
    {
      "cell_type": "code",
      "metadata": {
        "id": "LLJUwc1DYpCb",
        "colab_type": "code",
        "colab": {}
      },
      "source": [
        "#recursion 1\n",
        "trellis[0,1] = trellis[0,0] * trans[0,0] * emi[0,0] + trellis[1,0] * trans[1,0] * emi[0, 0] #Hot\n",
        "trellis[1,1] = trellis[0,0] * trans[0,1] * emi[1,0] + trellis[1,0] * trans[1,1] * emi[1, 0] #Cold"
      ],
      "execution_count": 0,
      "outputs": []
    },
    {
      "cell_type": "code",
      "metadata": {
        "id": "-aG7XBoBfKxb",
        "colab_type": "code",
        "colab": {
          "base_uri": "https://localhost:8080/",
          "height": 51
        },
        "outputId": "b42a6a34-d28a-47c9-9f56-2d953018805d"
      },
      "source": [
        "trellis"
      ],
      "execution_count": 63,
      "outputs": [
        {
          "output_type": "execute_result",
          "data": {
            "text/plain": [
              "tensor([[0.3200, 0.0404, 0.0000],\n",
              "        [0.0200, 0.0690, 0.0000]])"
            ]
          },
          "metadata": {
            "tags": []
          },
          "execution_count": 63
        }
      ]
    },
    {
      "cell_type": "code",
      "metadata": {
        "id": "hWAAGp9ofLhC",
        "colab_type": "code",
        "colab": {}
      },
      "source": [
        "#recursion 2\n",
        "trellis[0,2] = trellis[0,1] * trans[0,0] * emi[0,2] + trellis[1,1] * trans[1,0] * emi[0,2]    #Hot\n",
        "trellis[1,2] = trellis[0,1] * trans[0,1] * emi[1,2] + trellis[1,1] * trans[1,1] * emi[1,2]   #Cold"
      ],
      "execution_count": 0,
      "outputs": []
    },
    {
      "cell_type": "code",
      "metadata": {
        "id": "wPv-NeEhhCAt",
        "colab_type": "code",
        "colab": {
          "base_uri": "https://localhost:8080/",
          "height": 51
        },
        "outputId": "8a892e90-58f1-49eb-d208-0d149bf06978"
      },
      "source": [
        "trellis"
      ],
      "execution_count": 65,
      "outputs": [
        {
          "output_type": "execute_result",
          "data": {
            "text/plain": [
              "tensor([[0.3200, 0.0404, 0.0235],\n",
              "        [0.0200, 0.0690, 0.0051]])"
            ]
          },
          "metadata": {
            "tags": []
          },
          "execution_count": 65
        }
      ]
    },
    {
      "cell_type": "code",
      "metadata": {
        "id": "XZ0z1f5ThCyk",
        "colab_type": "code",
        "colab": {
          "base_uri": "https://localhost:8080/",
          "height": 51
        },
        "outputId": "3c5e8b09-bacf-4215-f168-92308893d9de"
      },
      "source": [
        "torch.tensor(emi)"
      ],
      "execution_count": 68,
      "outputs": [
        {
          "output_type": "execute_result",
          "data": {
            "text/plain": [
              "tensor([[0.2000, 0.4000, 0.4000],\n",
              "        [0.5000, 0.4000, 0.1000]], dtype=torch.float64)"
            ]
          },
          "metadata": {
            "tags": []
          },
          "execution_count": 68
        }
      ]
    },
    {
      "cell_type": "code",
      "metadata": {
        "id": "IU_Xp9r_ulwU",
        "colab_type": "code",
        "colab": {}
      },
      "source": [
        "states = {'H':0, 'C':1}\n",
        "obs = {1:0, 2:1, 3:2}\n",
        "obs_seq = np.array([3,1,3])\n",
        "emi = np.array([[0.2, 0.4, 0.4],\n",
        "                [0.5, 0.4, 0.1]])\n",
        "pie = np.array([0.8, 0.2])\n",
        "trans = np.array([[0.6, 0.4],\n",
        "                  [0.5, 0.5]])"
      ],
      "execution_count": 0,
      "outputs": []
    },
    {
      "cell_type": "code",
      "metadata": {
        "id": "j70dGerEvE6y",
        "colab_type": "code",
        "colab": {}
      },
      "source": [
        "def return_emi(state, obsid):\n",
        "  return emi[states[state.upper()], obs[obsid]]"
      ],
      "execution_count": 0,
      "outputs": []
    },
    {
      "cell_type": "code",
      "metadata": {
        "id": "FEstC_LB0rJw",
        "colab_type": "code",
        "colab": {}
      },
      "source": [
        "def return_trans(prev_state, curr_state):\n",
        "  prev = states[prev_state.upper()]\n",
        "  curr = states[curr_state.upper()]\n",
        "  return trans[prev, curr]"
      ],
      "execution_count": 0,
      "outputs": []
    },
    {
      "cell_type": "code",
      "metadata": {
        "id": "7RZTh2O_1IyO",
        "colab_type": "code",
        "colab": {
          "base_uri": "https://localhost:8080/",
          "height": 34
        },
        "outputId": "e963c97f-5e41-4734-8e16-c1660737b251"
      },
      "source": [
        "a = 'h'\n",
        "a.upper()"
      ],
      "execution_count": 207,
      "outputs": [
        {
          "output_type": "execute_result",
          "data": {
            "text/plain": [
              "'H'"
            ]
          },
          "metadata": {
            "tags": []
          },
          "execution_count": 207
        }
      ]
    },
    {
      "cell_type": "code",
      "metadata": {
        "id": "Pnj4a1D91NmW",
        "colab_type": "code",
        "colab": {
          "base_uri": "https://localhost:8080/",
          "height": 34
        },
        "outputId": "f72d8e7a-1145-4021-eda5-f91f0b68f7a5"
      },
      "source": [
        "return_trans('h','H')"
      ],
      "execution_count": 208,
      "outputs": [
        {
          "output_type": "execute_result",
          "data": {
            "text/plain": [
              "0.6"
            ]
          },
          "metadata": {
            "tags": []
          },
          "execution_count": 208
        }
      ]
    },
    {
      "cell_type": "code",
      "metadata": {
        "id": "JPWnrVz315wQ",
        "colab_type": "code",
        "colab": {}
      },
      "source": [
        ""
      ],
      "execution_count": 0,
      "outputs": []
    }
  ]
}